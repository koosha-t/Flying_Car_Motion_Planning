{
 "cells": [
  {
   "cell_type": "code",
   "execution_count": 1,
   "metadata": {},
   "outputs": [
    {
     "name": "stdout",
     "output_type": "stream",
     "text": [
      "2.1\n"
     ]
    }
   ],
   "source": [
    "import numpy as np\n",
    "import matplotlib.pyplot as plt\n",
    "from scipy.spatial import Voronoi\n",
    "from bresenham import bresenham\n",
    "from shapely.geometry import Polygon, Point, LineString\n",
    "from queue import PriorityQueue\n",
    "from sklearn.neighbors import KDTree\n",
    "from planning_utils import a_star, heuristic, create_grid\n",
    "%matplotlib inline \n",
    "import sys\n",
    "# ! pip install -I networkx==2.1\n",
    "import pkg_resources\n",
    "# pkg_resources.require(\"networkx==2.1\")\n",
    "import networkx as nx\n",
    "print(nx.__version__)\n",
    "plt.rcParams['figure.figsize'] = 14, 14"
   ]
  },
  {
   "cell_type": "code",
   "execution_count": 5,
   "metadata": {},
   "outputs": [
    {
     "name": "stdout",
     "output_type": "stream",
     "text": [
      "37.79248 -122.39745\n"
     ]
    }
   ],
   "source": [
    "with open(\"colliders.csv\") as datafile:\n",
    "    line = datafile.readline().strip()\n",
    "\n",
    "spoint = line.split(', ')\n",
    "lat0 = float(spoint[0].split(' ')[1])\n",
    "lon0 = float(spoint[1].split(' ')[1])\n",
    "print(lat0 , lon0)\n"
   ]
  },
  {
   "cell_type": "code",
   "execution_count": 6,
   "metadata": {
    "collapsed": true
   },
   "outputs": [],
   "source": [
    "data = np.loadtxt('colliders.csv', delimiter=',', dtype='Float64', skiprows=2)"
   ]
  },
  {
   "cell_type": "code",
   "execution_count": 9,
   "metadata": {},
   "outputs": [],
   "source": [
    "# 1.Creating a tree out of obstacles\n",
    "# 2. Creating polygons from obstacles\n",
    "\n",
    "polygons = []\n",
    "centres = []\n",
    "\n",
    "# minimum and maximum north coordinates\n",
    "north_min = np.floor(np.min(data[:, 0] - data[:, 3]))\n",
    "north_max = np.ceil(np.max(data[:, 0] + data[:, 3]))\n",
    "\n",
    "# minimum and maximum east coordinates\n",
    "east_min = np.floor(np.min(data[:, 1] - data[:, 4]))\n",
    "east_max = np.ceil(np.max(data[:, 1] + data[:, 4]))\n",
    "\n",
    "# given the minimum and maximum coordinates we can\n",
    "# calculate the size of the grid.\n",
    "north_size = int(np.ceil(north_max - north_min))\n",
    "east_size = int(np.ceil(east_max - east_min))\n",
    "\n",
    "safety_distance = 5\n",
    "\n",
    "for row in data:\n",
    "    north, east, alt, d_north, d_east, d_alt = row\n",
    "        \n",
    "    c1 = (np.clip(north - d_north - safety_distance - north_min, 0, north_size-1)\\\n",
    "          ,np.clip(east - d_east - safety_distance - east_min, 0, east_size-1 ))\n",
    "  \n",
    "    c2 = (np.clip(north - d_north - safety_distance - north_min, 0, north_size-1)\\\n",
    "       ,np.clip(east + d_east + safety_distance - east_min, 0, east_size-1 ))    \n",
    "        \n",
    "    c3 = (np.clip(north + d_north + safety_distance - north_min, 0, north_size-1)\\\n",
    "          ,np.clip(east + d_east + safety_distance - east_min, 0, east_size-1 ))\n",
    "\n",
    "    c4 = (np.clip(north + d_north + safety_distance - north_min, 0, north_size-1)\\\n",
    "          ,np.clip(east - d_east - safety_distance - east_min, 0, east_size-1 ))\n",
    "     \n",
    "    poly = Polygon([c1, c2, c3, c4])\n",
    "    polygons.append((poly , alt + d_alt))\n",
    "    centres.append((poly.centroid.x, poly.centroid.y))\n",
    "    \n",
    "tree = KDTree(centres, metric = 'euclidean')\n"
   ]
  },
  {
   "cell_type": "code",
   "execution_count": 13,
   "metadata": {},
   "outputs": [
    {
     "name": "stdout",
     "output_type": "stream",
     "text": [
      "248\n"
     ]
    }
   ],
   "source": [
    "#Random sampling:\n",
    "## 1) Choosing 300 random points across the grid\n",
    "## 2) Filtering points which conflict with obstacles\n",
    "\n",
    "n_samples = 300\n",
    "\n",
    "max_xy = 2 * np.max((data[:,3], data[:,4]))\n",
    "\n",
    "random_x = np.random.uniform(north_min, north_max, n_samples)\n",
    "random_y = np.random.uniform(east_min, east_max, n_samples)\n",
    "random_z = np.random.uniform(0, 5, n_samples)\n",
    "sample_data = list(zip(random_x, random_y, random_z))\n",
    "\n",
    "colFree_samples = []\n",
    "\n",
    "for sample in sample_data:\n",
    "    near_centres = list(tree.query_radius(np.array([sample[0],sample[1]]).reshape(1,-1), r=max_xy)[0])\n",
    "    collision = False\n",
    "    for ind in near_centres:\n",
    "        pg , height = polygons[ind]\n",
    "        collision = (pg.contains(Point(sample))and height >= sample[2])\n",
    "    if not collision:\n",
    "        colFree_samples.append(sample)\n",
    "\n",
    "print(len(colFree_samples))      "
   ]
  },
  {
   "cell_type": "code",
   "execution_count": 14,
   "metadata": {
    "collapsed": true
   },
   "outputs": [],
   "source": [
    "# A* algorithm\n",
    "from queue import PriorityQueue\n",
    "\n",
    "def heuristic(n1, n2):\n",
    "    return LA.norm(np.array(n2) - np.array(n1))\n",
    "\n",
    "def a_star(graph, h, start, goal):\n",
    "    \"\"\"Modified A* to work with NetworkX graphs.\"\"\"\n",
    "    \n",
    "    path = []\n",
    "    path_cost = 0\n",
    "    queue = PriorityQueue()\n",
    "    queue.put((0, start))\n",
    "    visited = set(start)\n",
    "\n",
    "    branch = {}\n",
    "    found = False\n",
    "    \n",
    "    while not queue.empty():\n",
    "        item = queue.get()\n",
    "        current_node = item[1]\n",
    "        if current_node == start:\n",
    "            current_cost = 0.0\n",
    "        else:              \n",
    "            current_cost = branch[current_node][0]\n",
    "            \n",
    "        if current_node == goal:        \n",
    "            print('Found a path.')\n",
    "            found = True\n",
    "            break\n",
    "        else:\n",
    "            for next_node in graph[current_node]:\n",
    "                cost = graph.edges[current_node, next_node]['weight']\n",
    "                branch_cost = current_cost + cost\n",
    "                queue_cost = branch_cost + h(next_node, goal)\n",
    "                \n",
    "                if next_node not in visited:                \n",
    "                    visited.add(next_node)\n",
    "                    branch[next_node] = (branch_cost, current_node)\n",
    "                    queue.put((queue_cost, next_node))\n",
    "                    \n",
    "    if found:\n",
    "        # retrace steps\n",
    "        n = goal\n",
    "        path_cost = branch[n][0]\n",
    "        path.append(goal)\n",
    "        while branch[n][1] != start:\n",
    "            path.append(branch[n][1])\n",
    "            n = branch[n][1]\n",
    "        path.append(branch[n][1])\n",
    "    else:\n",
    "        print('**********************')\n",
    "        print('Failed to find a path!')\n",
    "        print('**********************') \n",
    "    return path[::-1], path_cost\n"
   ]
  },
  {
   "cell_type": "code",
   "execution_count": null,
   "metadata": {
    "collapsed": true
   },
   "outputs": [],
   "source": [
    "# Extracting a graph out of collision-free sample points\n",
    "## 1) Creating a tree out of col-free sample points\n",
    "## 2) Check what pair of nodes can connect\n",
    "\n",
    "sample_tree = KDTree(colFree_samples)\n",
    "\n",
    "def can_connect(n1, n2, polygons):\n",
    "    line = LineString([n1, n2])\n",
    "    can_conn = True\n",
    "    for pg,hei in polygons:\n",
    "        can_conn = ( pg.crosses(line) and hei >= min(n1[2], n2[2]))\n",
    "        if not can_connect return False\n",
    "    return True\n",
    "\n",
    "def create_graph()\n",
    "        "
   ]
  }
 ],
 "metadata": {
  "kernelspec": {
   "display_name": "Python 3",
   "language": "python",
   "name": "python3"
  },
  "language_info": {
   "codemirror_mode": {
    "name": "ipython",
    "version": 3
   },
   "file_extension": ".py",
   "mimetype": "text/x-python",
   "name": "python",
   "nbconvert_exporter": "python",
   "pygments_lexer": "ipython3",
   "version": "3.6.3"
  }
 },
 "nbformat": 4,
 "nbformat_minor": 2
}
